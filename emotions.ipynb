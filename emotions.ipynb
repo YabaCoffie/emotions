{
 "cells": [
  {
   "cell_type": "code",
   "execution_count": 2,
   "id": "fab73e61",
   "metadata": {},
   "outputs": [],
   "source": [
    "import numpy as np\n",
    "import pandas as pd\n",
    "import matplotlib.pyplot as plt\n",
    "from sklearn.model_selection import train_test_split\n",
    "import seaborn as sns\n",
    "from collections import Counter\n",
    "plt.style.use(\"ggplot\")#“Dessine mes graphiques avec le style ggplot.”\n"
   ]
  },
  {
   "cell_type": "markdown",
   "id": "3ad152d0",
   "metadata": {},
   "source": [
    "Chaque entrée de cet ensemble de données se compose d'un segment de texte représentant un message Twitter et d'une étiquette correspondante indiquant l'émotion prédominante exprimée. Les émotions sont classées en six catégories : \n",
    "- tristesse (0), \n",
    "- joie (1), \n",
    "- amour (2), \n",
    "- colère (3), \n",
    "- peur (4) et \n",
    "- surprise (5).\\\n",
    "Que vous soyez intéressé par l'analyse des sentiments, la classification des émotions ou l'exploration de texte, cet ensemble de données offre une base solide pour explorer le paysage émotionnel nuancé des médias sociaux."
   ]
  },
  {
   "cell_type": "markdown",
   "id": "0474075a",
   "metadata": {},
   "source": [
    "### Chargement des données"
   ]
  },
  {
   "cell_type": "code",
   "execution_count": 3,
   "id": "056a0901",
   "metadata": {},
   "outputs": [
    {
     "data": {
      "text/html": [
       "<div>\n",
       "<style scoped>\n",
       "    .dataframe tbody tr th:only-of-type {\n",
       "        vertical-align: middle;\n",
       "    }\n",
       "\n",
       "    .dataframe tbody tr th {\n",
       "        vertical-align: top;\n",
       "    }\n",
       "\n",
       "    .dataframe thead th {\n",
       "        text-align: right;\n",
       "    }\n",
       "</style>\n",
       "<table border=\"1\" class=\"dataframe\">\n",
       "  <thead>\n",
       "    <tr style=\"text-align: right;\">\n",
       "      <th></th>\n",
       "      <th>Unnamed: 0</th>\n",
       "      <th>text</th>\n",
       "      <th>label</th>\n",
       "    </tr>\n",
       "  </thead>\n",
       "  <tbody>\n",
       "    <tr>\n",
       "      <th>0</th>\n",
       "      <td>0</td>\n",
       "      <td>i just feel really helpless and heavy hearted</td>\n",
       "      <td>4</td>\n",
       "    </tr>\n",
       "    <tr>\n",
       "      <th>1</th>\n",
       "      <td>1</td>\n",
       "      <td>ive enjoyed being able to slouch about relax a...</td>\n",
       "      <td>0</td>\n",
       "    </tr>\n",
       "    <tr>\n",
       "      <th>2</th>\n",
       "      <td>2</td>\n",
       "      <td>i gave up my internship with the dmrg and am f...</td>\n",
       "      <td>4</td>\n",
       "    </tr>\n",
       "    <tr>\n",
       "      <th>3</th>\n",
       "      <td>3</td>\n",
       "      <td>i dont know i feel so lost</td>\n",
       "      <td>0</td>\n",
       "    </tr>\n",
       "    <tr>\n",
       "      <th>4</th>\n",
       "      <td>4</td>\n",
       "      <td>i am a kindergarten teacher and i am thoroughl...</td>\n",
       "      <td>4</td>\n",
       "    </tr>\n",
       "  </tbody>\n",
       "</table>\n",
       "</div>"
      ],
      "text/plain": [
       "   Unnamed: 0                                               text  label\n",
       "0           0      i just feel really helpless and heavy hearted      4\n",
       "1           1  ive enjoyed being able to slouch about relax a...      0\n",
       "2           2  i gave up my internship with the dmrg and am f...      4\n",
       "3           3                         i dont know i feel so lost      0\n",
       "4           4  i am a kindergarten teacher and i am thoroughl...      4"
      ]
     },
     "execution_count": 3,
     "metadata": {},
     "output_type": "execute_result"
    }
   ],
   "source": [
    "data=pd.read_csv(\"text.csv\")\n",
    "data.head()"
   ]
  },
  {
   "cell_type": "code",
   "execution_count": 4,
   "id": "f86930d7",
   "metadata": {},
   "outputs": [
    {
     "data": {
      "text/plain": [
       "(416809, 3)"
      ]
     },
     "execution_count": 4,
     "metadata": {},
     "output_type": "execute_result"
    }
   ],
   "source": [
    "data.shape"
   ]
  },
  {
   "cell_type": "code",
   "execution_count": 5,
   "id": "12ea3bb7",
   "metadata": {},
   "outputs": [
    {
     "data": {
      "text/plain": [
       "Index(['Unnamed: 0', 'text', 'label'], dtype='object')"
      ]
     },
     "execution_count": 5,
     "metadata": {},
     "output_type": "execute_result"
    }
   ],
   "source": [
    "data.columns"
   ]
  },
  {
   "cell_type": "code",
   "execution_count": 6,
   "id": "74a50a31",
   "metadata": {},
   "outputs": [],
   "source": [
    "#Suppresion de la variable Unnamed\n",
    "data.drop([\"Unnamed: 0\"],axis=1,inplace=True)"
   ]
  },
  {
   "cell_type": "code",
   "execution_count": 7,
   "id": "d6d49c2b",
   "metadata": {},
   "outputs": [
    {
     "data": {
      "text/html": [
       "<div>\n",
       "<style scoped>\n",
       "    .dataframe tbody tr th:only-of-type {\n",
       "        vertical-align: middle;\n",
       "    }\n",
       "\n",
       "    .dataframe tbody tr th {\n",
       "        vertical-align: top;\n",
       "    }\n",
       "\n",
       "    .dataframe thead th {\n",
       "        text-align: right;\n",
       "    }\n",
       "</style>\n",
       "<table border=\"1\" class=\"dataframe\">\n",
       "  <thead>\n",
       "    <tr style=\"text-align: right;\">\n",
       "      <th></th>\n",
       "      <th>text</th>\n",
       "      <th>label</th>\n",
       "    </tr>\n",
       "  </thead>\n",
       "  <tbody>\n",
       "    <tr>\n",
       "      <th>0</th>\n",
       "      <td>i just feel really helpless and heavy hearted</td>\n",
       "      <td>4</td>\n",
       "    </tr>\n",
       "    <tr>\n",
       "      <th>1</th>\n",
       "      <td>ive enjoyed being able to slouch about relax a...</td>\n",
       "      <td>0</td>\n",
       "    </tr>\n",
       "    <tr>\n",
       "      <th>2</th>\n",
       "      <td>i gave up my internship with the dmrg and am f...</td>\n",
       "      <td>4</td>\n",
       "    </tr>\n",
       "    <tr>\n",
       "      <th>3</th>\n",
       "      <td>i dont know i feel so lost</td>\n",
       "      <td>0</td>\n",
       "    </tr>\n",
       "    <tr>\n",
       "      <th>4</th>\n",
       "      <td>i am a kindergarten teacher and i am thoroughl...</td>\n",
       "      <td>4</td>\n",
       "    </tr>\n",
       "  </tbody>\n",
       "</table>\n",
       "</div>"
      ],
      "text/plain": [
       "                                                text  label\n",
       "0      i just feel really helpless and heavy hearted      4\n",
       "1  ive enjoyed being able to slouch about relax a...      0\n",
       "2  i gave up my internship with the dmrg and am f...      4\n",
       "3                         i dont know i feel so lost      0\n",
       "4  i am a kindergarten teacher and i am thoroughl...      4"
      ]
     },
     "execution_count": 7,
     "metadata": {},
     "output_type": "execute_result"
    }
   ],
   "source": [
    "data.head(5)"
   ]
  },
  {
   "cell_type": "code",
   "execution_count": 8,
   "id": "bf2c7ffe",
   "metadata": {},
   "outputs": [],
   "source": [
    "X_train,X_test,y_train,y_test=train_test_split(data.drop([\"label\"],axis=1),data[\"label\"],test_size=0.3, random_state=42)"
   ]
  },
  {
   "cell_type": "markdown",
   "id": "f603a729",
   "metadata": {},
   "source": [
    "### Analyse exploratoire"
   ]
  },
  {
   "cell_type": "code",
   "execution_count": 9,
   "id": "40636d0c",
   "metadata": {},
   "outputs": [],
   "source": [
    "train=pd.concat([X_train,y_train],axis=1)"
   ]
  },
  {
   "cell_type": "code",
   "execution_count": 10,
   "id": "62c59ef7",
   "metadata": {},
   "outputs": [
    {
     "data": {
      "image/png": "[encoded data removed]",
      "text/plain": [
       "<Figure size 1000x500 with 1 Axes>"
      ]
     },
     "metadata": {},
     "output_type": "display_data"
    }
   ],
   "source": [
    "ax=train[\"label\"].value_counts().sort_index().plot(\n",
    "    kind='bar',title=\"Repartition des classes de labels\",figsize=(10,5))\n",
    "ax.set_xlabel(\"Labels\")\n",
    "ax.set_ylabel(\"Nombre de textes\")\n",
    "plt.show()"
   ]
  },
  {
   "cell_type": "markdown",
   "id": "1c3a224f",
   "metadata": {},
   "source": [
    "On observe un déséquilibre marqué entre les classes : la classe 1 (joie) est largement majoritaire avec près de 100 000 textes, tandis que la classe 5 (surprise) est très minoritaire.\n",
    "Ce déséquilibre risque de biaiser l’apprentissage du modèle, qui pourrait avoir tendance à prédire la classe majoritaire (joie) au détriment des classes plus rares comme la surprise."
   ]
  },
  {
   "cell_type": "code",
   "execution_count": 11,
   "id": "73b477a8",
   "metadata": {},
   "outputs": [
    {
     "data": {
      "image/png": "[encoded data removed]",
      "text/plain": [
       "<Figure size 800x400 with 1 Axes>"
      ]
     },
     "metadata": {},
     "output_type": "display_data"
    }
   ],
   "source": [
    "train[\"text_length\"]=train[\"text\"].apply(lambda x: len(str(x).split()))\n",
    "train[\"text_length\"].hist(bins=50,figsize=(8,4))\n",
    "plt.title(\"Distribution de la longeur des textes (mots)\")\n",
    "plt.xlabel(\"Nombre de mots\")\n",
    "plt.ylabel(\"Nombre de textes\")\n",
    "plt.show()"
   ]
  },
  {
   "cell_type": "code",
   "execution_count": 12,
   "id": "ab553daf",
   "metadata": {},
   "outputs": [
    {
     "data": {
      "image/png": "[encoded data removed]",
      "text/plain": [
       "<Figure size 800x400 with 1 Axes>"
      ]
     },
     "metadata": {},
     "output_type": "display_data"
    }
   ],
   "source": [
    "plt.figure(figsize=(8,4))\n",
    "sns.boxplot(x=\"label\",y=\"text_length\",data=train)\n",
    "plt.title(\"Longueur des textes par classe\")\n",
    "plt.show()"
   ]
  },
  {
   "cell_type": "markdown",
   "id": "54eb4d1f",
   "metadata": {},
   "source": [
    "La repartition des textes est presque là même dans chaque classe "
   ]
  },
  {
   "cell_type": "code",
   "execution_count": 13,
   "id": "cded89c2",
   "metadata": {},
   "outputs": [
    {
     "name": "stdout",
     "output_type": "stream",
     "text": [
      "Classe 0 :\n",
      "[('i', 139032), ('feel', 58999), ('and', 49388), ('to', 42736), ('the', 39392), ('a', 30427), ('feeling', 28683), ('of', 24699), ('that', 24203), ('my', 22317), ('in', 16543), ('it', 16167), ('like', 15528), ('so', 14460), ('for', 14309)]\n",
      "--------------------------------------------------\n",
      "Classe 1 :\n",
      "[('i', 157665), ('feel', 71969), ('and', 60801), ('to', 59674), ('the', 55536), ('a', 39905), ('that', 34160), ('of', 31126), ('feeling', 28660), ('my', 26127), ('in', 22381), ('it', 20690), ('like', 17689), ('is', 16128), ('have', 16120)]\n",
      "--------------------------------------------------\n",
      "Classe 2 :\n",
      "[('i', 39751), ('feel', 17220), ('and', 15694), ('the', 15137), ('to', 14786), ('a', 11063), ('of', 9397), ('that', 8238), ('my', 8148), ('feeling', 7255), ('in', 5577), ('like', 5367), ('it', 5058), ('for', 4738), ('me', 4274)]\n",
      "--------------------------------------------------\n",
      "Classe 3 :\n",
      "[('i', 65076), ('feel', 26373), ('and', 23503), ('to', 21088), ('the', 19531), ('a', 15044), ('feeling', 13321), ('that', 11997), ('of', 11593), ('my', 10059), ('it', 8030), ('like', 7280), ('in', 7276), ('im', 6516), ('me', 6463)]\n",
      "--------------------------------------------------\n",
      "Classe 4 :\n",
      "[('i', 54121), ('feel', 21631), ('to', 19685), ('and', 19154), ('the', 16148), ('a', 13225), ('feeling', 12263), ('of', 10899), ('that', 9272), ('my', 8685), ('in', 6667), ('it', 6518), ('about', 5645), ('was', 5541), ('im', 5266)]\n",
      "--------------------------------------------------\n",
      "Classe 5 :\n",
      "[('i', 17180), ('feel', 6956), ('and', 6309), ('the', 5913), ('to', 5207), ('a', 4422), ('feeling', 3536), ('that', 3466), ('of', 3437), ('my', 2605), ('it', 2575), ('in', 2209), ('was', 1821), ('this', 1693), ('like', 1646)]\n",
      "--------------------------------------------------\n"
     ]
    }
   ],
   "source": [
    "def top_words(texts,n=10):\n",
    "    words=\" \".join(texts).lower().split()\n",
    "    return Counter(words).most_common(n)\n",
    "\n",
    "for label in sorted(train[\"label\"].unique()):\n",
    "    print(f\"Classe {label} :\")\n",
    "    print(top_words(train[train[\"label\"]==label][\"text\"],15))\n",
    "    print(\"-\"*50)"
   ]
  },
  {
   "cell_type": "markdown",
   "id": "efc44712",
   "metadata": {},
   "source": [
    "La majorité des mots ne permettent pas de definir le sentiment car souvent des mots neutres en emotions."
   ]
  },
  {
   "cell_type": "code",
   "execution_count": 14,
   "id": "7d190512",
   "metadata": {},
   "outputs": [
    {
     "name": "stdout",
     "output_type": "stream",
     "text": [
      "Nombres de doublons :  11331\n",
      "Textes très courts : :74\n",
      "               text  label  text_length\n",
      "315252   every time      1            2\n",
      "317573         once      3            1\n",
      "390518      nothing      3            1\n",
      "291076  no response      4            2\n",
      "405165           in      0            1\n"
     ]
    }
   ],
   "source": [
    "print(\"Nombres de doublons : \", train.duplicated(subset=\"text\").sum())\n",
    "short_texts=train[train[\"text_length\"]<=2]\n",
    "print(f\"Textes très courts : :{len(short_texts)}\")\n",
    "print(short_texts.head())"
   ]
  },
  {
   "cell_type": "code",
   "execution_count": 39,
   "id": "cceb65dd",
   "metadata": {},
   "outputs": [
    {
     "data": {
      "text/html": [
       "<div>\n",
       "<style scoped>\n",
       "    .dataframe tbody tr th:only-of-type {\n",
       "        vertical-align: middle;\n",
       "    }\n",
       "\n",
       "    .dataframe tbody tr th {\n",
       "        vertical-align: top;\n",
       "    }\n",
       "\n",
       "    .dataframe thead th {\n",
       "        text-align: right;\n",
       "    }\n",
       "</style>\n",
       "<table border=\"1\" class=\"dataframe\">\n",
       "  <thead>\n",
       "    <tr style=\"text-align: right;\">\n",
       "      <th></th>\n",
       "      <th>text</th>\n",
       "      <th>label</th>\n",
       "      <th>text_length</th>\n",
       "      <th>is_duplicate</th>\n",
       "    </tr>\n",
       "  </thead>\n",
       "  <tbody>\n",
       "    <tr>\n",
       "      <th>126061</th>\n",
       "      <td>i find baking to be so relaxing and enjoyable ...</td>\n",
       "      <td>2</td>\n",
       "      <td>36</td>\n",
       "      <td>True</td>\n",
       "    </tr>\n",
       "    <tr>\n",
       "      <th>336181</th>\n",
       "      <td>i feel a strange sense of calm</td>\n",
       "      <td>4</td>\n",
       "      <td>7</td>\n",
       "      <td>True</td>\n",
       "    </tr>\n",
       "    <tr>\n",
       "      <th>216847</th>\n",
       "      <td>i have told my mother that i have the agency t...</td>\n",
       "      <td>3</td>\n",
       "      <td>46</td>\n",
       "      <td>True</td>\n",
       "    </tr>\n",
       "    <tr>\n",
       "      <th>265930</th>\n",
       "      <td>i just feel like crawling in a hole and then w...</td>\n",
       "      <td>2</td>\n",
       "      <td>17</td>\n",
       "      <td>True</td>\n",
       "    </tr>\n",
       "    <tr>\n",
       "      <th>81627</th>\n",
       "      <td>im quiet private i feel things deeply im passi...</td>\n",
       "      <td>1</td>\n",
       "      <td>17</td>\n",
       "      <td>True</td>\n",
       "    </tr>\n",
       "  </tbody>\n",
       "</table>\n",
       "</div>"
      ],
      "text/plain": [
       "                                                     text  label  text_length  \\\n",
       "126061  i find baking to be so relaxing and enjoyable ...      2           36   \n",
       "336181                     i feel a strange sense of calm      4            7   \n",
       "216847  i have told my mother that i have the agency t...      3           46   \n",
       "265930  i just feel like crawling in a hole and then w...      2           17   \n",
       "81627   im quiet private i feel things deeply im passi...      1           17   \n",
       "\n",
       "        is_duplicate  \n",
       "126061          True  \n",
       "336181          True  \n",
       "216847          True  \n",
       "265930          True  \n",
       "81627           True  "
      ]
     },
     "execution_count": 39,
     "metadata": {},
     "output_type": "execute_result"
    }
   ],
   "source": [
    "#Focus sur les doublons\n",
    "train['is_duplicate'] = train.duplicated(subset='text', keep=False)\n",
    "duplicates=train[train[\"is_duplicate\"]]\n",
    "duplicates.head(5)"
   ]
  },
  {
   "cell_type": "markdown",
   "id": "d8d4c70b",
   "metadata": {},
   "source": [
    "On retrouve ici toutes les textes doublons quelques soit le label c'est-à-dire qu'un texte peut apparaître en doublon dans un même label ou dans un label différent"
   ]
  },
  {
   "cell_type": "code",
   "execution_count": null,
   "id": "484e9a6c",
   "metadata": {},
   "outputs": [
    {
     "data": {
      "text/plain": [
       "Text(0, 0.5, 'Nombre de doublons')"
      ]
     },
     "execution_count": 24,
     "metadata": {},
     "output_type": "execute_result"
    },
    {
     "data": {
      "image/png": "[encoded data removed]",
      "text/plain": [
       "<Figure size 1000x500 with 1 Axes>"
      ]
     },
     "metadata": {},
     "output_type": "display_data"
    }
   ],
   "source": [
    "ax=duplicates[\"label\"].value_counts().sort_index().plot(\n",
    "    kind=\"bar\",title=\"Repartition des doublons par label\",figsize=(10,5))\n",
    "ax.set_xlabel(\"Label\")\n",
    "ax.set_ylabel(\"Nombre de doublons\")\n"
   ]
  },
  {
   "cell_type": "markdown",
   "id": "5bf12839",
   "metadata": {},
   "source": [
    "Nous allons procéder en deux étapes :\n",
    "- 1) Déterminer et supprimer le cas écheant les doublons présents dans un même label\n",
    "- 2) Analyser les doublons présents dans des labels très différents.\n",
    "\n",
    "Pour rappel les émotions sont classés de la façon suivante :\n",
    "- tristesse (0), \n",
    "- joie (1), \n",
    "- amour (2), \n",
    "- colère (3), \n",
    "- peur (4) et \n",
    "- surprise (5)."
   ]
  },
  {
   "cell_type": "markdown",
   "id": "fded544d",
   "metadata": {},
   "source": [
    "##### 1)Pareils doublons"
   ]
  },
  {
   "cell_type": "code",
   "execution_count": null,
   "id": "58820616",
   "metadata": {},
   "outputs": [
    {
     "name": "stdout",
     "output_type": "stream",
     "text": [
      "Avant : 291766\n",
      "Après suppression des doublons exacts : 291394\n"
     ]
    }
   ],
   "source": [
    "#supprimer les doublons où le text et le label sont identiques\n",
    "train_clean = train.drop_duplicates(subset=[\"text\", \"label\"])\n",
    "\n",
    "print(\"Avant :\", len(train))\n",
    "print(\"Après suppression des doublons exacts :\", len(train_clean))"
   ]
  },
  {
   "cell_type": "markdown",
   "id": "9c7a37c6",
   "metadata": {},
   "source": [
    "##### 2) Maintenant analysons les doublons de labels différents"
   ]
  },
  {
   "cell_type": "code",
   "execution_count": 89,
   "id": "91016d9c",
   "metadata": {},
   "outputs": [
    {
     "name": "stderr",
     "output_type": "stream",
     "text": [
      "/tmp/ipykernel_1263/3305276584.py:15: FutureWarning: DataFrameGroupBy.apply operated on the grouping columns. This behavior is deprecated, and in a future version of pandas the grouping columns will be excluded from the operation. Either pass `include_groups=False` to exclude the groupings or explicitly select the grouping columns after groupby to silence this warning.\n",
      "  indices_per_text = train_clean.groupby(\"text\").apply(lambda x: x.index.tolist())\n"
     ]
    }
   ],
   "source": [
    "#liste d'émotions contradictoires\n",
    "contradictions = [\n",
    "    [0, 1],  # tristesse + joie\n",
    "    [0, 2],  # tristesse + amour\n",
    "    [1, 3],  # joie + colère\n",
    "    [1, 4]   # joie + peur\n",
    "]\n",
    "\n",
    "# Regrouper tous les labels associés à chaque texte\n",
    "labels_per_text = train_clean.groupby(\"text\")[\"label\"].unique()\n",
    "# Garder seulement les textes qui ont plusieurs labels différents\n",
    "ambiguous_texts = labels_per_text[labels_per_text.apply(len) > 1]\n",
    "\n",
    "# indices_per_text : liste des indices originaux par texte parce que chaque texte est un indice unique on va le recuperer après\n",
    "indices_per_text = train_clean.groupby(\"text\").apply(lambda x: x.index.tolist())\n",
    "\n",
    "#Fonction pour comparer les emotions à un referentiel de contradictions\n",
    "def label_contradiction(label,contradictions):\n",
    "    for ref in contradictions:\n",
    "        if sorted(ref)==sorted(label):\n",
    "            return True\n",
    "    else : return False\n",
    "        \n",
    "#on applique la fonction\n",
    "contradictory_texts=labels_per_text[labels_per_text.apply(lambda x:label_contradiction(x,contradictions))]\n",
    "#on recupère les index des contradictions \n",
    "contradictory_indices=indices_per_text.loc[contradictory_texts.index].explode().tolist()\n",
    "train_clean = train_clean.drop(index=contradictory_indices)\n",
    "\n"
   ]
  },
  {
   "cell_type": "code",
   "execution_count": null,
   "id": "9e3b7d8c",
   "metadata": {},
   "outputs": [],
   "source": []
  }
 ],
 "metadata": {
  "kernelspec": {
   "display_name": "mon_env",
   "language": "python",
   "name": "python3"
  },
  "language_info": {
   "codemirror_mode": {
    "name": "ipython",
    "version": 3
   },
   "file_extension": ".py",
   "mimetype": "text/x-python",
   "name": "python",
   "nbconvert_exporter": "python",
   "pygments_lexer": "ipython3",
   "version": "3.11.13"
  }
 },
 "nbformat": 4,
 "nbformat_minor": 5
}
